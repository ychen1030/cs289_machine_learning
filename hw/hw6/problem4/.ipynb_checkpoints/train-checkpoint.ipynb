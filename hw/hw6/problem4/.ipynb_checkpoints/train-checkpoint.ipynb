{
 "cells": [
  {
   "cell_type": "code",
   "execution_count": 3,
   "metadata": {
    "colab": {},
    "colab_type": "code",
    "id": "EIfG6ySSanCl"
   },
   "outputs": [],
   "source": [
    "import torch\n",
    "from torch.utils import data\n",
    "from mds189 import Mds189\n",
    "import numpy as np\n",
    "from skimage import io, transform\n",
    "import ipdb\n",
    "import torch.nn as nn\n",
    "import torch.nn.functional as F\n",
    "from torchvision import transforms\n",
    "import torchvision.models as models\n",
    "from PIL import Image\n",
    "import time\n",
    "start = time.time()"
   ]
  },
  {
   "cell_type": "code",
   "execution_count": 4,
   "metadata": {
    "colab": {},
    "colab_type": "code",
    "id": "0NHrTXRhfP0t"
   },
   "outputs": [],
   "source": [
    "# Helper functions for loading images.\n",
    "def pil_loader(path):\n",
    "    # open path as file to avoid ResourceWarning (https://github.com/python-pillow/Pillow/issues/835)\n",
    "    with open(path, 'rb') as f:\n",
    "        img = Image.open(f)\n",
    "        return img.convert('RGB')\n",
    "\n",
    "def accimage_loader(path):\n",
    "    import accimage\n",
    "    try:\n",
    "        return accimage.Image(path)\n",
    "    except IOError:\n",
    "        # Potentially a decoding problem, fall back to PIL.Image\n",
    "        return pil_loader(path)\n",
    "\n",
    "def default_loader(path):\n",
    "    from torchvision import get_image_backend\n",
    "    if get_image_backend() == 'accimage':\n",
    "        return accimage_loader(path)\n",
    "    else:\n",
    "        return pil_loader(path)"
   ]
  },
  {
   "cell_type": "code",
   "execution_count": 79,
   "metadata": {
    "colab": {},
    "colab_type": "code",
    "id": "W7QnfQ3AfqJ0"
   },
   "outputs": [],
   "source": [
    "# flag for whether you're training or not\n",
    "is_train = True\n",
    "is_key_frame = True # TODO: set this to false to train on the video frames, instead of the key frames\n",
    "model_to_load = 'model.ckpt' # This is the model to load during testing, if you want to eval a previously-trained model.\n"
   ]
  },
  {
   "cell_type": "code",
   "execution_count": 80,
   "metadata": {
    "colab": {},
    "colab_type": "code",
    "id": "PBHv12eEfttV"
   },
   "outputs": [],
   "source": [
    "# CUDA for PyTorch\n",
    "use_cuda = torch.cuda.is_available()\n",
    "device = torch.device(\"cuda:0\" if use_cuda else \"cpu\")\n",
    "#cudnn.benchmark = True"
   ]
  },
  {
   "cell_type": "code",
   "execution_count": 110,
   "metadata": {
    "colab": {},
    "colab_type": "code",
    "id": "JoX-V6Fgf1Ip"
   },
   "outputs": [],
   "source": [
    "# Parameters for data loader\n",
    "params = {'batch_size': 25,  # TODO: fill in the batch size. often, these are things like 32,64,128,or 256\n",
    "          'shuffle': True,\n",
    "          'num_workers': 2 \n",
    "          }\n",
    "# TODO: Hyper-parameters\n",
    "num_epochs = 25\n",
    "learning_rate = 1e-3\n",
    "# NOTE: depending on your optimizer, you may want to tune other hyperparameters as well"
   ]
  },
  {
   "cell_type": "code",
   "execution_count": 82,
   "metadata": {
    "colab": {},
    "colab_type": "code",
    "id": "JivHzthZf7HR"
   },
   "outputs": [],
   "source": [
    "# Datasets\n",
    "# TODO: put the path to your train, test, validation txt files\n",
    "if is_key_frame:\n",
    "    label_file_train =  './dataloader_files/keyframe_data_train.txt'\n",
    "    label_file_val  =  './dataloader_files/keyframe_data_val.txt'\n",
    "    # NOTE: the kaggle competition test data is only for the video frames, not the key frames\n",
    "    # this is why we don't have an equivalent label_file_test with keyframes\n",
    "else:\n",
    "    label_file_train = './dataloader_files/videoframe_data_train.txt'\n",
    "    label_file_val = './dataloader_files/videoframe_data_val.txt'\n",
    "    label_file_test = './dataloader_files/videoframe_data_test.txt'"
   ]
  },
  {
   "cell_type": "code",
   "execution_count": 83,
   "metadata": {
    "colab": {},
    "colab_type": "code",
    "id": "nYxdIg53gLvB"
   },
   "outputs": [],
   "source": [
    "# TODO: you should normalize based on the average image in the training set. This shows \n",
    "# an example of doing normalization\n",
    "mean = [0.5, 0.5, 0.5]\n",
    "std = [0.5, 0.5, 0.5]\n",
    "# TODO: if you want to pad or resize your images, you can put the parameters for that below."
   ]
  },
  {
   "cell_type": "code",
   "execution_count": 84,
   "metadata": {
    "colab": {},
    "colab_type": "code",
    "id": "-6eKsAwcgUex"
   },
   "outputs": [],
   "source": [
    "# Generators\n",
    "# NOTE: if you don't want to pad or resize your images, you should delete the Pad and Resize\n",
    "# transforms from all three _dataset definitions.\n",
    "train_dataset = Mds189(label_file_train,loader=default_loader,transform=transforms.Compose([\n",
    "                                               transforms.Pad(padding=0),    # TODO: if you want to pad your images\n",
    "                                               transforms.Resize((32, 32)), # TODO: if you want to resize your images\n",
    "                                               transforms.ToTensor(),\n",
    "                                               transforms.Normalize(mean, std)\n",
    "                                           ]))\n",
    "train_loader = data.DataLoader(train_dataset, **params)\n",
    "\n",
    "val_dataset = Mds189(label_file_val,loader=default_loader,transform=transforms.Compose([\n",
    "                                               transforms.Pad(padding=0),\n",
    "                                               transforms.Resize((32, 32)),\n",
    "                                               transforms.ToTensor(),\n",
    "                                               transforms.Normalize(mean, std)\n",
    "                                           ]))\n",
    "val_loader = data.DataLoader(val_dataset, **params)\n",
    "\n",
    "if not is_key_frame:\n",
    "    test_dataset = Mds189(label_file_test,loader=default_loader,transform=transforms.Compose([\n",
    "                                                   transforms.Pad(padding=0),\n",
    "                                                   transforms.Resize((32, 32)),\n",
    "                                                   transforms.ToTensor(),\n",
    "                                                   transforms.Normalize(mean, std)\n",
    "                                               ]))\n",
    "    test_loader = data.DataLoader(test_dataset, **params)"
   ]
  },
  {
   "cell_type": "code",
   "execution_count": 103,
   "metadata": {
    "colab": {},
    "colab_type": "code",
    "id": "gK09h_RngY_b"
   },
   "outputs": [],
   "source": [
    "# TODO: one way of defining your model architecture is to fill in a class like NeuralNet()\n",
    "# NOTE: you should not overwrite the models you try whose performance you're keeping track of.\n",
    "#       one thing you could do is have many different model forward passes in class NeuralNet()\n",
    "#       and then depending on which model you want to train/evaluate, you call that model's\n",
    "#       forward pass. this strategy will save you a lot of time in the long run. the last thing\n",
    "#       you want to do is have to recode the layer structure for a model (whose performance\n",
    "#       you're reporting) because you forgot to e.g., compute the confusion matrix on its results\n",
    "#       or visualize the error modes of your (best) model\n",
    "class NeuralNet(nn.Module):\n",
    "    def __init__(self):\n",
    "        super(NeuralNet, self).__init__()\n",
    "        # you can define some common layers, for example: \n",
    "        self.conv1 = nn.Conv2d(3, 6, 5) # you should review the definition of nn.Conv2d online\n",
    "        self.pool = nn.MaxPool2d(2, 2)\n",
    "        self.conv2 = nn.Conv2d(6, 16, 5)\n",
    "        # note: input_dimensions and output_dimensions are not defined, they\n",
    "        # are placeholders to show you what arguments to pass to nn.Linear \n",
    "        self.fc1 = nn.Linear(16 * 5 * 5, 120)\n",
    "        self.fc2 = nn.Linear(120, 84)\n",
    "        self.fc3 = nn.Linear(84, 8)\n",
    "\n",
    "    def forward(self, x):\n",
    "        # now you can use the layers you defined, to write the forward pass, i.e.,\n",
    "        # network architecture for your model\n",
    "        x = self.pool(F.relu(self.conv1(x))) # x -> convolution -> ReLU -> max pooling\n",
    "        x = self.pool(F.relu(self.conv2(x)))\n",
    "        # Tensors need to be reshaped before going into an fc layer\n",
    "        # the -1 will correspond to the batch size\n",
    "        x = x.view(-1, self.num_flat_features(x)) \n",
    "        # x = x.view(-1, 16 * 5 * 5)\n",
    "        x = F.relu(self.fc1(x)) # x -> fc (affine) layer -> relu\n",
    "        x = F.relu(self.fc2(x))\n",
    "        x = self.fc3(x)\n",
    "        return x\n",
    "    \n",
    "    def num_flat_features(self, x):\n",
    "        size = x.size()[1:]  # all dimensions except the batch dimension\n",
    "        print(size)\n",
    "        num_features = 1\n",
    "        for s in size:\n",
    "            num_features *= s\n",
    "        return num_features"
   ]
  },
  {
   "cell_type": "code",
   "execution_count": 111,
   "metadata": {},
   "outputs": [],
   "source": [
    "class NeuralNet(nn.Module):\n",
    "    def __init__(self):\n",
    "        super(NeuralNet, self).__init__()\n",
    "        self.conv1 = nn.Conv2d(3, 6, 5)\n",
    "        self.pool = nn.MaxPool2d(2, 2)\n",
    "        self.fc1 = nn.Linear(6 * 14 * 14, 120)\n",
    "        self.fc2 = nn.Linear(120, 8)\n",
    "\n",
    "    def forward(self, x):\n",
    "        x = self.pool(F.relu(self.conv1(x))) # x -> convolution -> ReLU -> max pooling\n",
    "        x = x.view(-1, 6 * 14 * 14)\n",
    "        x = F.relu(self.fc1(x)) # x -> fc (affine) layer -> relu\n",
    "        x = self.fc2(x)\n",
    "        return x"
   ]
  },
  {
   "cell_type": "code",
   "execution_count": 112,
   "metadata": {},
   "outputs": [
    {
     "name": "stdout",
     "output_type": "stream",
     "text": [
      "NeuralNet(\n",
      "  (conv1): Conv2d(3, 6, kernel_size=(5, 5), stride=(1, 1))\n",
      "  (pool): MaxPool2d(kernel_size=2, stride=2, padding=0, dilation=1, ceil_mode=False)\n",
      "  (fc1): Linear(in_features=1176, out_features=120, bias=True)\n",
      "  (fc2): Linear(in_features=120, out_features=8, bias=True)\n",
      ")\n"
     ]
    }
   ],
   "source": [
    "net = NeuralNet()\n",
    "print(net)"
   ]
  },
  {
   "cell_type": "code",
   "execution_count": null,
   "metadata": {},
   "outputs": [],
   "source": [
    "def check_accuracy(model)\n",
    "    with torch.no_grad():\n",
    "        correct = 0\n",
    "        total = 0\n",
    "        predicted_list = []\n",
    "        groundtruth_list = []\n",
    "        for (local_batch,local_labels) in val_loader:\n",
    "            # Transfer to GPU\n",
    "            local_ims, local_labels = local_batch.to(device), local_labels.to(device)\n",
    "\n",
    "            outputs = model.forward(local_ims)\n",
    "            loss = criterion(outputs, local_labels)\n",
    "    return loss.item()"
   ]
  },
  {
   "cell_type": "code",
   "execution_count": 113,
   "metadata": {
    "colab": {},
    "colab_type": "code",
    "id": "KfoTJSoHgfvc"
   },
   "outputs": [
    {
     "name": "stdout",
     "output_type": "stream",
     "text": [
      "Beginning training..\n",
      "Epoch [1/25], Step [50/117], Loss: 1.8888\n",
      "Epoch [1/25], Step [100/117], Loss: 1.5201\n",
      "Epoch [2/25], Step [50/117], Loss: 1.8271\n",
      "Epoch [2/25], Step [100/117], Loss: 1.3540\n",
      "Epoch [3/25], Step [50/117], Loss: 1.4472\n",
      "Epoch [3/25], Step [100/117], Loss: 1.5760\n",
      "Epoch [4/25], Step [50/117], Loss: 1.0656\n",
      "Epoch [4/25], Step [100/117], Loss: 1.0632\n",
      "Epoch [5/25], Step [50/117], Loss: 0.8550\n",
      "Epoch [5/25], Step [100/117], Loss: 0.7777\n",
      "Epoch [6/25], Step [50/117], Loss: 0.7451\n",
      "Epoch [6/25], Step [100/117], Loss: 0.9496\n",
      "Epoch [7/25], Step [50/117], Loss: 1.4170\n",
      "Epoch [7/25], Step [100/117], Loss: 0.5023\n",
      "Epoch [8/25], Step [50/117], Loss: 0.6468\n",
      "Epoch [8/25], Step [100/117], Loss: 0.3317\n",
      "Epoch [9/25], Step [50/117], Loss: 0.4815\n",
      "Epoch [9/25], Step [100/117], Loss: 0.5447\n",
      "Epoch [10/25], Step [50/117], Loss: 0.4575\n",
      "Epoch [10/25], Step [100/117], Loss: 0.4062\n",
      "Epoch [11/25], Step [50/117], Loss: 0.1173\n",
      "Epoch [11/25], Step [100/117], Loss: 0.4212\n",
      "Epoch [12/25], Step [50/117], Loss: 0.1002\n",
      "Epoch [12/25], Step [100/117], Loss: 0.1536\n",
      "Epoch [13/25], Step [50/117], Loss: 0.2068\n",
      "Epoch [13/25], Step [100/117], Loss: 0.2237\n",
      "Epoch [14/25], Step [50/117], Loss: 0.1511\n",
      "Epoch [14/25], Step [100/117], Loss: 0.1052\n",
      "Epoch [15/25], Step [50/117], Loss: 0.0862\n",
      "Epoch [15/25], Step [100/117], Loss: 0.0416\n",
      "Epoch [16/25], Step [50/117], Loss: 0.1004\n",
      "Epoch [16/25], Step [100/117], Loss: 0.0435\n",
      "Epoch [17/25], Step [50/117], Loss: 0.0785\n",
      "Epoch [17/25], Step [100/117], Loss: 0.1219\n",
      "Epoch [18/25], Step [50/117], Loss: 0.2285\n",
      "Epoch [18/25], Step [100/117], Loss: 0.0589\n",
      "Epoch [19/25], Step [50/117], Loss: 0.0183\n",
      "Epoch [19/25], Step [100/117], Loss: 0.0338\n",
      "Epoch [20/25], Step [50/117], Loss: 0.0180\n",
      "Epoch [20/25], Step [100/117], Loss: 0.0284\n",
      "Epoch [21/25], Step [50/117], Loss: 0.0369\n",
      "Epoch [21/25], Step [100/117], Loss: 0.0120\n",
      "Epoch [22/25], Step [50/117], Loss: 0.0533\n",
      "Epoch [22/25], Step [100/117], Loss: 0.0088\n",
      "Epoch [23/25], Step [50/117], Loss: 0.0326\n",
      "Epoch [23/25], Step [100/117], Loss: 0.0754\n",
      "Epoch [24/25], Step [50/117], Loss: 0.4064\n",
      "Epoch [24/25], Step [100/117], Loss: 0.0524\n",
      "Epoch [25/25], Step [50/117], Loss: 0.0894\n",
      "Epoch [25/25], Step [100/117], Loss: 0.1419\n",
      "Time: 42762.769622564316\n"
     ]
    }
   ],
   "source": [
    "model = NeuralNet().to(device)\n",
    "\n",
    "# if we're only testing, we don't want to train for any epochs, and we want to load a model\n",
    "if not is_train:\n",
    "    num_epochs = 0\n",
    "    model.load_state_dict(torch.load('model.ckpt'))\n",
    "\n",
    "# Loss and optimizer\n",
    "criterion =  nn.CrossEntropyLoss() #TODO: define your loss here. hint: should just require calling a built-in pytorch layer.\n",
    "# NOTE: you can use a different optimizer besides Adam, like RMSProp or SGD, if you'd like\n",
    "optimizer = torch.optim.Adam(model.parameters(), lr=learning_rate)\n",
    "\n",
    "# Train the model\n",
    "# Loop over epochs\n",
    "print('Beginning training..')\n",
    "total_step = len(train_loader)\n",
    "train_loss = []\n",
    "val_loss = []\n",
    "for epoch in range(num_epochs):\n",
    "    # Training\n",
    "    # print('epoch {}'.format(epoch))\n",
    "    for i, (local_batch,local_labels) in enumerate(train_loader):\n",
    "        # Transfer to GPU\n",
    "        local_ims, local_labels = local_batch.to(device), local_labels.to(device)\n",
    "        \n",
    "        # Forward pass\n",
    "        outputs = model.forward(local_ims)\n",
    "        loss = criterion(outputs, local_labels)\n",
    "        # TODO: maintain a list of your losses as a function of number of steps\n",
    "        #       because we ask you to plot this information\n",
    "        # NOTE: if you use Google Colab's tensorboard-like feature to visualize\n",
    "        #       the loss, you do not need to plot it here. just take a screenshot\n",
    "        #       of the loss curve and include it in your write-up.\n",
    "        # running_loss.append(loss.item())\n",
    "\n",
    "        # Backward and optimize\n",
    "        optimizer.zero_grad()\n",
    "        loss.backward()\n",
    "        optimizer.step()\n",
    "\n",
    "        if (i+1) % 50 == 0:\n",
    "            print ('Epoch [{}/{}], Step [{}/{}], Loss: {:.4f}'\n",
    "                   .format(epoch+1, num_epochs, i+1, total_step, loss.item()))\n",
    "    \n",
    "    train_loss.append(loss.item())\n",
    "    val_loss.append()\n",
    "\n",
    "end = time.time()\n",
    "print('Time: {}'.format(end - start))"
   ]
  },
  {
   "cell_type": "code",
   "execution_count": 114,
   "metadata": {},
   "outputs": [
    {
     "data": {
      "image/png": "[encoded data removed]",
      "text/plain": [
       "<Figure size 360x288 with 1 Axes>"
      ]
     },
     "metadata": {
      "needs_background": "light"
     },
     "output_type": "display_data"
    }
   ],
   "source": [
    "from matplotlib import pyplot as plt\n",
    "%matplotlib inline\n",
    "plt.rcParams['figure.figsize'] = (5, 4) # set default size of plots\n",
    "plt.rcParams['image.interpolation'] = 'nearest'\n",
    "plt.rcParams['image.cmap'] = 'gray'\n",
    "\n",
    "plt.plot(running_loss, 'o')\n",
    "plt.title('Training loss history')\n",
    "plt.xlabel('Iteration')\n",
    "plt.ylabel('Training loss')\n",
    "plt.show()"
   ]
  },
  {
   "cell_type": "code",
   "execution_count": 115,
   "metadata": {
    "colab": {},
    "colab_type": "code",
    "id": "VT88tdTDgozX"
   },
   "outputs": [
    {
     "name": "stdout",
     "output_type": "stream",
     "text": [
      "Beginning Testing..\n",
      "Accuracy of the network on the 975 test images: 52.1025641025641 %\n"
     ]
    }
   ],
   "source": [
    "# Test the model\n",
    "# In test phase, we don't need to compute gradients (for memory efficiency)\n",
    "print('Beginning Testing..')\n",
    "with torch.no_grad():\n",
    "    correct = 0\n",
    "    total = 0\n",
    "    predicted_list = []\n",
    "    groundtruth_list = []\n",
    "    for (local_batch,local_labels) in val_loader:\n",
    "        # Transfer to GPU\n",
    "        local_ims, local_labels = local_batch.to(device), local_labels.to(device)\n",
    "\n",
    "        outputs = model.forward(local_ims)\n",
    "        _, predicted = torch.max(outputs.data, 1)\n",
    "        total += local_labels.size(0)\n",
    "        predicted_list.extend(predicted)\n",
    "        groundtruth_list.extend(local_labels)\n",
    "        correct += (predicted == local_labels).sum().item()\n",
    "\n",
    "    print('Accuracy of the network on the {} test images: {} %'.format(total, 100 * correct / total))"
   ]
  },
  {
   "cell_type": "code",
   "execution_count": 116,
   "metadata": {
    "colab": {},
    "colab_type": "code",
    "id": "NcGFt7IMgsx-"
   },
   "outputs": [],
   "source": [
    "# Look at some things about the model results..\n",
    "# convert the predicted_list and groundtruth_list Tensors to lists\n",
    "pl = [p.cpu().numpy().tolist() for p in predicted_list]\n",
    "gt = [p.cpu().numpy().tolist() for p in groundtruth_list]\n",
    "\n",
    "# TODO: use pl and gt to produce your confusion matrices"
   ]
  },
  {
   "cell_type": "code",
   "execution_count": 118,
   "metadata": {
    "colab": {},
    "colab_type": "code",
    "id": "8ZKxpA3PgyOv"
   },
   "outputs": [
    {
     "name": "stdout",
     "output_type": "stream",
     "text": [
      "reach: 0.52\n",
      "squat: 0.48\n",
      "inline: 0.6733333333333333\n",
      "lunge: 0.6133333333333333\n",
      "hamstrings: 0.49333333333333335\n",
      "stretch: 0.3933333333333333\n",
      "deadbug: 0.48\n",
      "pushup: 0.4666666666666667\n"
     ]
    }
   ],
   "source": [
    "# view the per-movement accuracy\n",
    "label_map = ['reach','squat','inline','lunge','hamstrings','stretch','deadbug','pushup']\n",
    "for id in range(len(label_map)):\n",
    "    print('{}: {}'.format(label_map[id],sum([p and g for (p,g) in zip(np.array(pl)==np.array(gt),np.array(gt)==id)])/(sum(np.array(gt)==id)+0.)))\n",
    "\n",
    "# TODO: you'll need to run the forward pass on the kaggle competition images, and save those results to a csv file.\n",
    "if not is_key_frame:\n",
    "    # your code goes here!\n",
    "    pass\n",
    "\n",
    "# Save the model checkpoint\n",
    "torch.save(model.state_dict(), 'model.ckpt')\n"
   ]
  },
  {
   "cell_type": "code",
   "execution_count": null,
   "metadata": {},
   "outputs": [],
   "source": []
  }
 ],
 "metadata": {
  "colab": {
   "name": "train.ipynb",
   "provenance": [],
   "version": "0.3.2"
  },
  "kernelspec": {
   "display_name": "Python 3",
   "language": "python",
   "name": "python3"
  },
  "language_info": {
   "codemirror_mode": {
    "name": "ipython",
    "version": 3
   },
   "file_extension": ".py",
   "mimetype": "text/x-python",
   "name": "python",
   "nbconvert_exporter": "python",
   "pygments_lexer": "ipython3",
   "version": "3.7.1"
  }
 },
 "nbformat": 4,
 "nbformat_minor": 2
}
